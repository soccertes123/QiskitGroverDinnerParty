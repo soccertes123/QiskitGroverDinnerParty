{
 "cells": [
  {
   "cell_type": "code",
   "execution_count": 2,
   "id": "pursuant-virtue",
   "metadata": {},
   "outputs": [],
   "source": [
    "#initialization\n",
    "import matplotlib.pyplot as plt\n",
    "import numpy as np\n",
    "\n",
    "# importing Qiskit\n",
    "from qiskit import IBMQ, Aer, assemble, transpile\n",
    "from qiskit import QuantumCircuit, ClassicalRegister, QuantumRegister\n",
    "from qiskit.providers.ibmq import least_busy\n",
    "\n",
    "# import basic plot tools\n",
    "from qiskit.visualization import plot_histogram"
   ]
  },
  {
   "cell_type": "code",
   "execution_count": 3,
   "id": "olive-typing",
   "metadata": {},
   "outputs": [],
   "source": [
    "# general diffuser copied from https://qiskit.org/textbook/ch-algorithms/grover.html#2qubits-simulation\n",
    "def diffuser(nqubits):\n",
    "    qc = QuantumCircuit(nqubits)\n",
    "    # Apply transformation |s> -> |00..0> (H-gates)\n",
    "    for qubit in range(nqubits):\n",
    "        qc.h(qubit)\n",
    "    # Apply transformation |00..0> -> |11..1> (X-gates)\n",
    "    for qubit in range(nqubits):\n",
    "        qc.x(qubit)\n",
    "    # Do multi-controlled-Z gate\n",
    "    qc.h(nqubits-1)\n",
    "    qc.mct(list(range(nqubits-1)), nqubits-1)  # multi-controlled-toffoli\n",
    "    qc.h(nqubits-1)\n",
    "    # Apply transformation |11..1> -> |00..0>\n",
    "    for qubit in range(nqubits):\n",
    "        qc.x(qubit)\n",
    "    # Apply transformation |00..0> -> |s>\n",
    "    for qubit in range(nqubits):\n",
    "        qc.h(qubit)\n",
    "    return qc"
   ]
  },
  {
   "cell_type": "code",
   "execution_count": 4,
   "id": "architectural-beads",
   "metadata": {},
   "outputs": [],
   "source": [
    "# THIS IS THE MAIN IMPORTANT PART OF THE IMPLEMENTATION\n",
    "# we made lots of stubs for unimportant but time-consuming functions\n",
    "# After putting around 10-15 hours in to the project, we realized it would take way too much time to hammer in every\n",
    "# single function.\n",
    "\n",
    "def oracle(nqubits, expressions):\n",
    "#     iterate over expressions and define circuit\n",
    "    qc = QuantumCircuit(nqubits + len(expressions))\n",
    "    x_reset_target_indices = [] # list of target qubits which have x gates that need to be reversed\n",
    "    for i, exp in enumerate(expressions):\n",
    "        # if OR: apply X gates\n",
    "        if (exp[0] == \"OR\"):\n",
    "            for variable in exp[1:]:\n",
    "                qubit_index = int(variable[1]) # each variable is in format xi where i is the qubit index\n",
    "                qc.x(qubit_index)\n",
    "                \n",
    "        # apply multi qubit toffoli\n",
    "        control_indices = []\n",
    "        x_reset_input_indices = [] # indices to be reset if we apply x gates\n",
    "        \n",
    "        for variable in exp[1:]:\n",
    "            if (variable[0] == \"x\"):\n",
    "                qubit_index = int(variable[1])\n",
    "                control_indices.append(qubit_index)\n",
    "            else:\n",
    "                # variable[0] = \"e\" -> the qubit index is the target qubit from the prior expression ei\n",
    "                qubit_index = nqubits + int(variable[1]) # this references the target qubit after evaluating expression ei\n",
    "                control_indices.append(qubit_index)\n",
    "            if (variable[len(variable-1)] == \"~\"):\n",
    "                qc.x(qubit_index)\n",
    "                x_reset_indices.append(qubit_index)\n",
    "                \n",
    "        target_index = nqubits + i\n",
    "        qc = multi_qubit_toffoli(qc, control_indices, target_index)\n",
    "        \n",
    "        for index in x_reset_input_indices:\n",
    "            # reset the inputs if we applied x gates \n",
    "            qc.x(index)\n",
    "        \n",
    "        # if OR: apply X gate on target qubit for logic and X gates on control qubits to reset input\n",
    "        if (exp[0] == \"OR\"):\n",
    "            qc.x(target_index)\n",
    "            x_reset_target_indices.append(i) # append to this list so that we can reset the circuit at end of oracle\n",
    "            for variable in exp[1:]:\n",
    "                qubit_index = int(variable[1])\n",
    "                qc.x(qubit_index)\n",
    "    for index in x_reset_target_indices:\n",
    "        # reset the rest of the circuit\n",
    "        qc.x(index)\n",
    "    return qc"
   ]
  },
  {
   "cell_type": "code",
   "execution_count": null,
   "id": "global-percentage",
   "metadata": {},
   "outputs": [],
   "source": [
    "def multi_qubit_toffoli(qc, control_indices, target_index):\n",
    "#     perform the multi qubit toffoli gate on the quantum circuit and return the circuit\n",
    "    return qc"
   ]
  },
  {
   "cell_type": "code",
   "execution_count": null,
   "id": "composed-emphasis",
   "metadata": {},
   "outputs": [],
   "source": [
    "def init(nqubits):\n",
    "    qc = QuantumCircuit(nqubits)\n",
    "    for i in range(nqubits):\n",
    "        qc.h(i)\n",
    "    return qc"
   ]
  },
  {
   "cell_type": "code",
   "execution_count": null,
   "id": "robust-nurse",
   "metadata": {},
   "outputs": [],
   "source": [
    "def parse_exp(exp):\n",
    "# returns something like [e1=[\"OR\", \"x0\", \"x1~\"], e2=[\"AND\", \"e1\", \"x2\"], e3=[...], ...]\n",
    "# where each expression ei is connected by a series of ANDs\n",
    "# make sure that any negations get distributed\n",
    "# We will write our expressions as ei=[\"AND\", \"x0\", \"x1~\"] so that the last character is \"~\" if the variable has negation\n",
    "    li = []\n",
    "    return li"
   ]
  },
  {
   "cell_type": "code",
   "execution_count": null,
   "id": "varied-greece",
   "metadata": {},
   "outputs": [],
   "source": [
    "def check_solution(boolean_list, expression):\n",
    "    # boolean list would represent the variables in the expression by index\n",
    "    return false"
   ]
  },
  {
   "cell_type": "code",
   "execution_count": null,
   "id": "adjusted-constitutional",
   "metadata": {},
   "outputs": [],
   "source": [
    "expression = \"((x0 & x1) & (x1 & ~x2) & x3)\"\n",
    "nqubits = 2\n",
    "circuit = init(nqubits)\n",
    "oracle_qc = oracle(nqubits, expression)\n",
    "diffuser_qc = diffuser(nqubits)\n",
    "\n",
    "# now join the circuits together\n",
    "solved = false\n",
    "boolean_list\n",
    "while (solved):\n",
    "#     add oracle and diffuser on our circuit\n",
    "    circuit = circuit + oracle_qc + diffuser_qc\n",
    "#     measure result\n",
    "    results = circuit.measure_all().counts()\n",
    "    boolean_list = results\n",
    "#     check solution with expression\n",
    "    solved = checks_solution(boolean_list, expression)\n",
    "print(boolean_list)"
   ]
  }
 ],
 "metadata": {
  "kernelspec": {
   "display_name": "Python 3",
   "language": "python",
   "name": "python3"
  },
  "language_info": {
   "codemirror_mode": {
    "name": "ipython",
    "version": 3
   },
   "file_extension": ".py",
   "mimetype": "text/x-python",
   "name": "python",
   "nbconvert_exporter": "python",
   "pygments_lexer": "ipython3",
   "version": "3.8.5"
  }
 },
 "nbformat": 4,
 "nbformat_minor": 5
}
